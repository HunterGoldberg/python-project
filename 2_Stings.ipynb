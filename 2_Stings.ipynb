{
  "nbformat": 4,
  "nbformat_minor": 0,
  "metadata": {
    "colab": {
      "provenance": [],
      "authorship_tag": "ABX9TyMMqzeeQHF5yZYHjzOvVdfw",
      "include_colab_link": true
    },
    "kernelspec": {
      "name": "python3",
      "display_name": "Python 3"
    },
    "language_info": {
      "name": "python"
    }
  },
  "cells": [
    {
      "cell_type": "markdown",
      "metadata": {
        "id": "view-in-github",
        "colab_type": "text"
      },
      "source": [
        "<a href=\"https://colab.research.google.com/github/HunterGoldberg/python-project/blob/main/2_Stings.ipynb\" target=\"_parent\"><img src=\"https://colab.research.google.com/assets/colab-badge.svg\" alt=\"Open In Colab\"/></a>"
      ]
    },
    {
      "cell_type": "code",
      "execution_count": 7,
      "metadata": {
        "colab": {
          "base_uri": "https://localhost:8080/"
        },
        "id": "rx7qI5CHR4QJ",
        "outputId": "0ab3b79c-64b9-4ae5-ff76-e7b4258ae3cc"
      },
      "outputs": [
        {
          "output_type": "stream",
          "name": "stdout",
          "text": [
            "J\n",
            "a\n",
            "k\n",
            "e\n",
            " \n",
            "p\n",
            "o\n",
            "w\n",
            "e\n",
            "r\n",
            "s\n",
            " \n",
            "i\n",
            "s\n",
            " \n",
            "s\n",
            "p\n",
            "e\n",
            "r\n",
            " \n",
            "w\n",
            "e\n",
            "i\n",
            "r\n"
          ]
        }
      ],
      "source": [
        "s1 = \"Jake powers is super weird\"\n",
        "s2 = \"Jake powers is pretty cool\"\n",
        "\n",
        "for index in range(len(s1)):\n",
        "  if s1[index] in s2:\n",
        "    print(s1[index])\n",
        ""
      ]
    }
  ]
}