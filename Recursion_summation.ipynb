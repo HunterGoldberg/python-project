{
  "nbformat": 4,
  "nbformat_minor": 0,
  "metadata": {
    "colab": {
      "provenance": [],
      "authorship_tag": "ABX9TyNzqtE7Yz15UZkPzdCOXB58",
      "include_colab_link": true
    },
    "kernelspec": {
      "name": "python3",
      "display_name": "Python 3"
    },
    "language_info": {
      "name": "python"
    }
  },
  "cells": [
    {
      "cell_type": "markdown",
      "metadata": {
        "id": "view-in-github",
        "colab_type": "text"
      },
      "source": [
        "<a href=\"https://colab.research.google.com/github/HunterGoldberg/python-project/blob/main/Recursion_summation.ipynb\" target=\"_parent\"><img src=\"https://colab.research.google.com/assets/colab-badge.svg\" alt=\"Open In Colab\"/></a>"
      ]
    },
    {
      "cell_type": "code",
      "execution_count": null,
      "metadata": {
        "colab": {
          "base_uri": "https://localhost:8080/"
        },
        "id": "ZbI1ForlIuKa",
        "outputId": "ae0f07fb-8554-43e7-802d-177336c30ade"
      },
      "outputs": [
        {
          "output_type": "execute_result",
          "data": {
            "text/plain": [
              "24"
            ]
          },
          "metadata": {},
          "execution_count": 1
        }
      ],
      "source": [
        "def recursive_factorial(n):\n",
        "  if n == 0:\n",
        "    return 1\n",
        "  else:\n",
        "    return n * recursive_factorial(n-1)\n",
        "\n",
        "recursive_factorial(4)"
      ]
    },
    {
      "cell_type": "code",
      "source": [
        "def fibR(n):\n",
        "  if n == 0 or n == 1:\n",
        "    return 1\n",
        "  else:\n",
        "    return fibR(n-1) + fibR(n-2)\n",
        "\n",
        "for i in range(8):\n",
        "  print(fibR(i), end=', ')"
      ],
      "metadata": {
        "colab": {
          "base_uri": "https://localhost:8080/"
        },
        "id": "LH_a5IYNL50e",
        "outputId": "e6b6d773-0ff7-4d57-a200-711d1aa3b8d4"
      },
      "execution_count": null,
      "outputs": [
        {
          "output_type": "stream",
          "name": "stdout",
          "text": [
            "1, 1, 2, 3, 5, 8, 13, 21, "
          ]
        }
      ]
    },
    {
      "cell_type": "code",
      "source": [
        "def reverse(s):\n",
        "  if len(s) == 1:\n",
        "    return s\n",
        "  else:\n",
        "    return s[-1] + reverse(s[:-1])\n",
        "\n",
        "reverse(\"Hunter\")\n",
        "\n",
        "\n",
        "\n",
        "\n",
        "\n"
      ],
      "metadata": {
        "id": "DF-gvYHaMLu3",
        "colab": {
          "base_uri": "https://localhost:8080/",
          "height": 35
        },
        "outputId": "df6cd6ab-ccef-4a32-d117-d40774988079"
      },
      "execution_count": 4,
      "outputs": [
        {
          "output_type": "execute_result",
          "data": {
            "text/plain": [
              "'retnuH'"
            ],
            "application/vnd.google.colaboratory.intrinsic+json": {
              "type": "string"
            }
          },
          "metadata": {},
          "execution_count": 4
        }
      ]
    },
    {
      "cell_type": "code",
      "source": [
        "import numpy as np\n",
        "\n",
        "def quickSort(alist):\n",
        "  if len(alist) < 2:\n",
        "    return(alist)\n",
        "  else:\n",
        "    low, same, high = [], [], []\n",
        "\n",
        "    pivot = len(alist) // 2 #np.random.randint(0, len(alist)-1)\n",
        "\n",
        "    for item in alist:\n",
        "\n",
        "      if item < alist[pivot]:\n",
        "        low.append(item)\n",
        "      elif item ==alist[pivot]:\n",
        "        same.append(item)\n",
        "      else:\n",
        "        high.append(item)\n",
        "\n",
        "    return quickSort(low) + same + quickSort(high)\n",
        "\n",
        "\n",
        "quickSort([6,2,9,7,9,5])\n",
        "\n",
        "\n",
        "\n",
        "\n"
      ],
      "metadata": {
        "colab": {
          "base_uri": "https://localhost:8080/"
        },
        "id": "-E-zWOJwbp3r",
        "outputId": "7070daaa-a5a5-4b28-d775-683de38063d2"
      },
      "execution_count": 17,
      "outputs": [
        {
          "output_type": "execute_result",
          "data": {
            "text/plain": [
              "[2, 5, 6, 7, 9, 9]"
            ]
          },
          "metadata": {},
          "execution_count": 17
        }
      ]
    }
  ]
}