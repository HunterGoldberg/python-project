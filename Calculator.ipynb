{
  "nbformat": 4,
  "nbformat_minor": 0,
  "metadata": {
    "colab": {
      "provenance": [],
      "authorship_tag": "ABX9TyNMIp/Qp8h0OeYgAKzpKG83",
      "include_colab_link": true
    },
    "kernelspec": {
      "name": "python3",
      "display_name": "Python 3"
    },
    "language_info": {
      "name": "python"
    }
  },
  "cells": [
    {
      "cell_type": "markdown",
      "metadata": {
        "id": "view-in-github",
        "colab_type": "text"
      },
      "source": [
        "<a href=\"https://colab.research.google.com/github/HunterGoldberg/python-project/blob/main/Calculator.ipynb\" target=\"_parent\"><img src=\"https://colab.research.google.com/assets/colab-badge.svg\" alt=\"Open In Colab\"/></a>"
      ]
    },
    {
      "cell_type": "code",
      "execution_count": null,
      "metadata": {
        "id": "N8xlZxkd5QjO"
      },
      "outputs": [],
      "source": [
        "#design a calculator\n",
        "#The calcualtor once starts, cannot stop unless the user chooses to (hint: infinite loop)\n",
        "#Implement all numerical operators that we discussed(+,-,*,/,//,%)\n",
        "#The user has to provide to number and the desided operator from the keeyboard; then, the calculator will display the result (use three seperate calls to funtion input() for each of the inputs)\n",
        "#Numbers: int or float, operator: str\n",
        "#The calculator stops if the user enters the word \"break\" instead of an operator; it skips an iteration if the user gives an operator this is not numerical (e.g., a boolean one)\n",
        "\n",
        "while True:\n",
        "  operator = input('What operation are you performing? ')\n",
        "  if (operator == \"Break\" or operator == \"break\"):\n",
        "    break\n",
        "  n1 = float(input(\"First value: \"))\n",
        "  n2 = float(input(\"second value: \"))\n",
        "  if operator == \"+\":\n",
        "    print(n1 + n2)\n",
        "  elif operator == \"-\":\n",
        "    print(n1 - n2)\n",
        "  elif operator == \"*\":\n",
        "    print(n1 * n2)\n",
        "  elif (operator == \"/\"):\n",
        "    print(n1 / n2)\n",
        "  elif (operator == \"//\"):\n",
        "    print(n1 // n2)\n",
        "  elif (operator == \"%\"):\n",
        "    print(n1 % n2)\n",
        "  else:\n",
        "    continue\n",
        "\n"
      ]
    }
  ]
}