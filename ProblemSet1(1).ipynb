{
  "nbformat": 4,
  "nbformat_minor": 0,
  "metadata": {
    "colab": {
      "provenance": [],
      "include_colab_link": true
    },
    "kernelspec": {
      "name": "python3",
      "display_name": "Python 3"
    },
    "language_info": {
      "name": "python"
    }
  },
  "cells": [
    {
      "cell_type": "markdown",
      "metadata": {
        "id": "view-in-github",
        "colab_type": "text"
      },
      "source": [
        "<a href=\"https://colab.research.google.com/github/HunterGoldberg/python-project/blob/main/ProblemSet1(1).ipynb\" target=\"_parent\"><img src=\"https://colab.research.google.com/assets/colab-badge.svg\" alt=\"Open In Colab\"/></a>"
      ]
    },
    {
      "cell_type": "markdown",
      "source": [
        "# Problem Set 2"
      ],
      "metadata": {
        "id": "mqKVIuY-mxNU"
      }
    },
    {
      "cell_type": "markdown",
      "source": [
        "## Assignment 1: Quality Control (7 points)\n",
        "\n",
        "A quality control manager would like to find the average weight of a list of weights. Prior experience indicates that the first two measures are atypical, and the practice is to exclude these from the average calculation.\n",
        "\n",
        "Write a program that calculates the average of a list of numbers that given as inputs from the user, excluding the first three values.\n",
        "\n",
        "For your program, you must define and use the following functions:\n",
        "- `getValues(n)`: Prompt the user for `n` values, returns the list\n",
        "- `calcAverage(alist)`: Calculates the average from the list"
      ],
      "metadata": {
        "id": "-RSYW1jVm08n"
      }
    },
    {
      "cell_type": "code",
      "execution_count": null,
      "metadata": {
        "id": "AqbgJkgNmvQw",
        "colab": {
          "base_uri": "https://localhost:8080/"
        },
        "outputId": "2fc73559-5418-49d8-bb51-0283f8043fbc"
      },
      "outputs": [
        {
          "output_type": "stream",
          "name": "stdout",
          "text": [
            "Enter number of weights: 10\n",
            "Enter the weight15\n",
            "Enter the weight178\n",
            "Enter the weight12\n",
            "Enter the weight14\n",
            "Enter the weight5\n",
            "Enter the weight7\n",
            "Enter the weight8\n",
            "Enter the weight90\n",
            "Enter the weight75\n",
            "Enter the weight43\n",
            "31.75\n"
          ]
        }
      ],
      "source": [
        "def getValues(n):\n",
        "  values = []\n",
        "  for i in range(n):\n",
        "    value = float(input(\"Enter the weight\"))\n",
        "    values.append(value)\n",
        "  values.pop(0)\n",
        "  values.pop(0)\n",
        "  return values\n",
        "\n",
        "def calcAverage(alist):\n",
        "  return sum(alist) / len(alist)\n",
        "\n",
        "n_weights = int(input('Enter number of weights: '))\n",
        "L = getValues(n_weights)\n",
        "avg = calcAverage(L)\n",
        "print(avg)"
      ]
    },
    {
      "cell_type": "markdown",
      "source": [
        "## Assignment 2: Country Statistics Lookup-Multiple Measures (6 points)\n",
        "\n",
        "Assume a program begins with the statement:\n",
        "\n",
        "```python\n",
        "allData = { # dictionary of values for countries\n",
        "    'US': {'pop':325.7, 'gdp': 19.39, 'ccy': 'USD', 'fx':  1.0},\n",
        "    'CA': {'pop': 36.5, 'gdp':  1.65, 'ccy': 'CAD', 'fx':  1.35},\n",
        "    'MX': {'pop':129.2, 'gdp':  1.15, 'ccy': 'MXN', 'fx': 19.68}\n",
        "    }\n",
        "```\n",
        "\n",
        "Write subsequent statements that (in a loop) prompt the user for a country code (`US`, `CA`, or `MX`), then prompt for a measure name (`pop`, `gdp`, `ccy`, or `fx`), then look up in the above dictionary for the corresponding value, and display it.\n",
        "\n",
        "Example run:\n",
        "```\n",
        "Please enter a country code: CA\n",
        "Please enter a statistic: pop\n",
        "CA pop = 36.5\n",
        "```\n",
        "\n",
        "Your program should handle the cases where a user-entered country code or measure name is not found."
      ],
      "metadata": {
        "id": "QFO0Kzx8ncnv"
      }
    },
    {
      "cell_type": "code",
      "source": [
        "allData = { # dictionary of values for countries\n",
        "    'US': {'pop':325.7, 'gdp': 19.39, 'ccy': 'USD', 'fx':  1.0},\n",
        "    'CA': {'pop': 36.5, 'gdp':  1.65, 'ccy': 'CAD', 'fx':  1.35},\n",
        "    'MX': {'pop':129.2, 'gdp':  1.15, 'ccy': 'MXN', 'fx': 19.68}\n",
        "    }\n",
        "\n",
        "while True:\n",
        "  code = input('Please enter a country code (or type exit if you want to stop)')\n",
        "  if code == 'exit':\n",
        "    break\n",
        "  if code not in allData.keys():\n",
        "    print('This country code does not exist.')\n",
        "    continue\n",
        "  statistic = input('Please enter a statistic')\n",
        "  if statistic not in allData[code].keys():\n",
        "    print('invalid statistic')\n",
        "    continue\n",
        "\n",
        "  if statistic == 'pop':\n",
        "    print(f'Population = {allData[code][statistic]} million people')\n",
        "  elif statistic == 'gdp':\n",
        "    print(f'GDP = {allData[code][statistic]} trillion $')\n",
        "  elif statistic == 'ccy':\n",
        "    print(f'Currency: {allData[code][statistic]}')\n",
        "  else:\n",
        "    Print(f'FX: {allData[code][statistic]}')\n"
      ],
      "metadata": {
        "id": "NZFjRINKowEW",
        "colab": {
          "base_uri": "https://localhost:8080/"
        },
        "outputId": "5b24c4f0-9d4a-493b-9cc8-b3d0ce05ed05"
      },
      "execution_count": 7,
      "outputs": [
        {
          "name": "stdout",
          "output_type": "stream",
          "text": [
            "Please enter a country code (or type exit if you want to stop)US\n",
            "Please enter a statisticpop\n",
            "Population = 325.7 million people\n",
            "Please enter a country code (or type exit if you want to stop)exit\n"
          ]
        }
      ]
    },
    {
      "cell_type": "markdown",
      "source": [
        "## Assignment 3: Parking Garage (6 points)\n",
        "\n",
        "Write a program to compute the fee for parking in a garage for a number of hours.\n",
        "\n",
        "The program should:\n",
        "- Prompt the user for how many hours parked\n",
        "- Calculate the fee based on the following rules:\n",
        "  - $2.50/hour\n",
        "\n",
        "  - minimum fee is $6.00\n",
        "\n",
        "  - maximum fee is $20.00\n",
        "- Print the result\n",
        "\n",
        "For your program, define and use the following two functions:\n",
        "```python\n",
        "# use input() to prompt for the # of hours parked, return this value\n",
        "def getParkingHours()\n",
        "\n",
        "# takes as input hours (a number), returns the parking fee\n",
        "def calcParkingFee()\n",
        "```"
      ],
      "metadata": {
        "id": "GjaUFrnfpKFf"
      }
    },
    {
      "cell_type": "code",
      "source": [
        "def getParkingHours():\n",
        "  Parkinghours = int(input('How many hours will you be staying?'))\n",
        "  return Parkinghours\n",
        "\n",
        "\n",
        "\n",
        "def calcParkingFee(hours):\n",
        "  parkingfee = 2.5 * hours\n",
        "  if parkingfee <= 6:\n",
        "    return 6\n",
        "  elif parkingfee >= 20:\n",
        "    return 20\n",
        "  else:\n",
        "    return parkingfee\n",
        "\n",
        "hours = getParkingHours()\n",
        "parkingfee = calcParkingFee(hours)\n",
        "print(f'Total charge: ${parkingfee}')\n"
      ],
      "metadata": {
        "id": "5ha4O3V5pwNN",
        "colab": {
          "base_uri": "https://localhost:8080/"
        },
        "outputId": "576cf299-c4f7-42ef-a4d3-3f222803465d"
      },
      "execution_count": null,
      "outputs": [
        {
          "output_type": "stream",
          "name": "stdout",
          "text": [
            "How many hours will you be staying?5\n",
            "Total charge: $12.5\n"
          ]
        }
      ]
    },
    {
      "cell_type": "markdown",
      "source": [
        "## Assignment 4: Tuition (6 points)\n",
        "\n",
        "A college charges tuition according to the following:\n",
        "- 12 or more credits: $20,000/semester\n",
        "\n",
        "- 1-11 credits: $1,200 + $1,700 per credit\n",
        "\n",
        "Write a program that prompts the user for a number of credits and determines and displays the tuition for the semester. As part of your program, define and use the following function:\n",
        "```python\n",
        "def calcTuition(credits)\n",
        "```\n",
        "The function returns the tuition for a given number of credits"
      ],
      "metadata": {
        "id": "gipBObe5qm-2"
      }
    },
    {
      "cell_type": "code",
      "source": [
        "credits = int(input('How many credits are you taking?'))\n",
        "\n",
        "def calcTuition(credits):\n",
        "  if credits >= 12:\n",
        "    print(f'Tuition = $20,000')\n",
        "  elif credits < 12 and credits >= 1:\n",
        "    print(f'Tuition = ${1200 + 1700 * credits}')\n",
        "  else:\n",
        "    print(f'Invalid number of credits: {credits}')\n",
        "\n",
        "calcTuition(credits)\n",
        "\n",
        "\n",
        "\n",
        "\n"
      ],
      "metadata": {
        "id": "BPcn9ywzrL8y",
        "colab": {
          "base_uri": "https://localhost:8080/"
        },
        "outputId": "80418bdf-a43a-47d3-9007-07f0cbf2ae0b"
      },
      "execution_count": 13,
      "outputs": [
        {
          "output_type": "stream",
          "name": "stdout",
          "text": [
            "How many credits are you taking?5\n",
            "Tuition = $9700\n"
          ]
        }
      ]
    },
    {
      "cell_type": "code",
      "source": [],
      "metadata": {
        "id": "roE7fsklZn4H"
      },
      "execution_count": null,
      "outputs": []
    }
  ]
}