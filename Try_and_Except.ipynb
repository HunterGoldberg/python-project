{
  "nbformat": 4,
  "nbformat_minor": 0,
  "metadata": {
    "colab": {
      "provenance": [],
      "authorship_tag": "ABX9TyN2W6hBBAcZTkRO5NYN2jkP",
      "include_colab_link": true
    },
    "kernelspec": {
      "name": "python3",
      "display_name": "Python 3"
    },
    "language_info": {
      "name": "python"
    }
  },
  "cells": [
    {
      "cell_type": "markdown",
      "metadata": {
        "id": "view-in-github",
        "colab_type": "text"
      },
      "source": [
        "<a href=\"https://colab.research.google.com/github/HunterGoldberg/python-project/blob/main/Try_and_Except.ipynb\" target=\"_parent\"><img src=\"https://colab.research.google.com/assets/colab-badge.svg\" alt=\"Open In Colab\"/></a>"
      ]
    },
    {
      "cell_type": "code",
      "execution_count": 1,
      "metadata": {
        "colab": {
          "base_uri": "https://localhost:8080/"
        },
        "id": "V2FUpQ-IKdz4",
        "outputId": "73b241cf-31ae-4290-b860-3fd86a67d546"
      },
      "outputs": [
        {
          "output_type": "stream",
          "name": "stdout",
          "text": [
            "Input must be an int\n"
          ]
        },
        {
          "output_type": "execute_result",
          "data": {
            "text/plain": [
              "nan"
            ]
          },
          "metadata": {},
          "execution_count": 1
        }
      ],
      "source": [
        "def avg(alist):\n",
        "  try:\n",
        "    return sum(alist)/len(alist)\n",
        "  except TypeError:\n",
        "    print('Input must be an int')\n",
        "    return float('nan')\n",
        "  except ValueError:\n",
        "    print(\"Invalid value used.\")\n",
        "  except ZeroDivisonError:\n",
        "    print(\"The list is empty!\")\n",
        "    return\n",
        "\n",
        "  except:\n",
        "    print('unknown error')\n",
        "\n",
        "\n",
        "alist = [1,3,'5',7,9]\n",
        "\n",
        "avg(1)\n",
        "\n",
        "\n",
        "\n"
      ]
    }
  ]
}