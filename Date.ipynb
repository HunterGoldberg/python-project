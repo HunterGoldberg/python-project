{
  "nbformat": 4,
  "nbformat_minor": 0,
  "metadata": {
    "colab": {
      "provenance": [],
      "authorship_tag": "ABX9TyPVXuwyxSXcLx3/CXyanE38",
      "include_colab_link": true
    },
    "kernelspec": {
      "name": "python3",
      "display_name": "Python 3"
    },
    "language_info": {
      "name": "python"
    }
  },
  "cells": [
    {
      "cell_type": "markdown",
      "metadata": {
        "id": "view-in-github",
        "colab_type": "text"
      },
      "source": [
        "<a href=\"https://colab.research.google.com/github/HunterGoldberg/python-project/blob/main/Date.ipynb\" target=\"_parent\"><img src=\"https://colab.research.google.com/assets/colab-badge.svg\" alt=\"Open In Colab\"/></a>"
      ]
    },
    {
      "cell_type": "code",
      "execution_count": 9,
      "metadata": {
        "colab": {
          "base_uri": "https://localhost:8080/"
        },
        "id": "SfQOFyIgEaRJ",
        "outputId": "8c9eb343-5ee7-460c-bd67-d024cc141a87"
      },
      "outputs": [
        {
          "output_type": "stream",
          "name": "stdout",
          "text": [
            "What day of the month is it?(DD): 20\n",
            "What month of the year is it?(MM): 02\n",
            "what year is it?(YYYY): 2024\n",
            "20 / 02 / 2024\n"
          ]
        }
      ],
      "source": [
        "# Write a program that takes as input from the keyboard a string the corresponds to\n",
        "# a date (e.g., 02/02/2024 in the format: MM/DD/YYYY\n",
        "\n",
        "day = input('What day of the month is it?(DD): ')\n",
        "month = input('What month of the year is it?(MM): ')\n",
        "year = input('what year is it?(YYYY): ')\n",
        "\n",
        "(print(day,\"/\",month,\"/\",year))\n"
      ]
    }
  ]
}