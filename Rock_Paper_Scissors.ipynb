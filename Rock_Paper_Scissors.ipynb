{
  "nbformat": 4,
  "nbformat_minor": 0,
  "metadata": {
    "colab": {
      "provenance": [],
      "include_colab_link": true
    },
    "kernelspec": {
      "name": "python3",
      "display_name": "Python 3"
    },
    "language_info": {
      "name": "python"
    }
  },
  "cells": [
    {
      "cell_type": "markdown",
      "metadata": {
        "id": "view-in-github",
        "colab_type": "text"
      },
      "source": [
        "<a href=\"https://colab.research.google.com/github/HunterGoldberg/python-project/blob/main/Rock_Paper_Scissors.ipynb\" target=\"_parent\"><img src=\"https://colab.research.google.com/assets/colab-badge.svg\" alt=\"Open In Colab\"/></a>"
      ]
    },
    {
      "cell_type": "markdown",
      "source": [
        "Rock paper scissors"
      ],
      "metadata": {
        "id": "2fCt1BFlDdmG"
      }
    },
    {
      "cell_type": "code",
      "source": [
        "import random\n",
        "\n",
        "userInput=input(\"Do you want to play Rock,Paper, Scissors?\")\n",
        "while userInput == \"yes\":\n",
        "  user_choice = input(\"Rock, Paper, or Scissors? \")\n",
        "  pc_choice = random.choice(['rock','paper','scissors'])\n",
        "\n",
        "  if user_choice == pc_choice:\n",
        "    print(\"It's a tie!\")\n",
        "  elif user_choice == \"rock\" and pc_choice == \"scissors\":\n",
        "    print(\"You win!\")\n",
        "  elif user_choice == \"rock\" and pc_choice == \"paper\":\n",
        "    print(\"PC wins!\")\n",
        "  elif user_choice == \"paper\" and pc_choice == \"rock\":\n",
        "    print(\"You win!\")\n",
        "  elif user_choice == \"paper\" and pc_choice == \"scissors\":\n",
        "    print(\"PC wins\")\n",
        "  elif user_choice == \"scissors\" and pc_choice == \"rock\":\n",
        "    print(\"PC wins!\")\n",
        "  elif user_choice == \"scissors\" and pc_choice == \"paper\":\n",
        "    print(\"You win!\")\n",
        "  else:\n",
        "    print(\"Wrong input. Try again.\")\n",
        "\n",
        "  userInput = input(\"Do you want to play again? \")\n"
      ],
      "metadata": {
        "id": "GVUzXyMRE1Sa",
        "colab": {
          "base_uri": "https://localhost:8080/"
        },
        "outputId": "3fe0ee03-dec2-4732-8faf-d54665b7c0c9"
      },
      "execution_count": null,
      "outputs": [
        {
          "name": "stdout",
          "output_type": "stream",
          "text": [
            "Do you want to play Rock,Paper, Scissors?yes\n",
            "Rock, Paper, or Scissors? rock\n",
            "PC wins!\n",
            "Do you want to play again? no\n"
          ]
        }
      ]
    }
  ]
}